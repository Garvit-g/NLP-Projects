{
 "cells": [
  {
   "cell_type": "code",
   "execution_count": 9,
   "id": "6bd554cf",
   "metadata": {},
   "outputs": [
    {
     "name": "stdout",
     "output_type": "stream",
     "text": [
      "Requirement already satisfied: tensorflow in c:\\users\\dgopa\\anaconda3\\lib\\site-packages (2.9.1)\n",
      "Requirement already satisfied: astunparse>=1.6.0 in c:\\users\\dgopa\\anaconda3\\lib\\site-packages (from tensorflow) (1.6.3)\n",
      "Requirement already satisfied: packaging in c:\\users\\dgopa\\anaconda3\\lib\\site-packages (from tensorflow) (20.9)\n",
      "Requirement already satisfied: typing-extensions>=3.6.6 in c:\\users\\dgopa\\anaconda3\\lib\\site-packages (from tensorflow) (3.7.4.3)\n",
      "Requirement already satisfied: absl-py>=1.0.0 in c:\\users\\dgopa\\anaconda3\\lib\\site-packages (from tensorflow) (1.1.0)\n",
      "Requirement already satisfied: grpcio<2.0,>=1.24.3 in c:\\users\\dgopa\\anaconda3\\lib\\site-packages (from tensorflow) (1.47.0)\n",
      "Requirement already satisfied: protobuf<3.20,>=3.9.2 in c:\\users\\dgopa\\anaconda3\\lib\\site-packages (from tensorflow) (3.19.4)\n",
      "Requirement already satisfied: keras-preprocessing>=1.1.1 in c:\\users\\dgopa\\anaconda3\\lib\\site-packages (from tensorflow) (1.1.2)\n",
      "Requirement already satisfied: flatbuffers<2,>=1.12 in c:\\users\\dgopa\\anaconda3\\lib\\site-packages (from tensorflow) (1.12)\n",
      "Requirement already satisfied: tensorflow-estimator<2.10.0,>=2.9.0rc0 in c:\\users\\dgopa\\anaconda3\\lib\\site-packages (from tensorflow) (2.9.0)\n",
      "Requirement already satisfied: tensorflow-io-gcs-filesystem>=0.23.1 in c:\\users\\dgopa\\anaconda3\\lib\\site-packages (from tensorflow) (0.26.0)\n",
      "Requirement already satisfied: keras<2.10.0,>=2.9.0rc0 in c:\\users\\dgopa\\anaconda3\\lib\\site-packages (from tensorflow) (2.9.0)\n",
      "Requirement already satisfied: six>=1.12.0 in c:\\users\\dgopa\\anaconda3\\lib\\site-packages (from tensorflow) (1.15.0)\n",
      "Requirement already satisfied: setuptools in c:\\users\\dgopa\\anaconda3\\lib\\site-packages (from tensorflow) (52.0.0.post20210125)\n",
      "Requirement already satisfied: gast<=0.4.0,>=0.2.1 in c:\\users\\dgopa\\anaconda3\\lib\\site-packages (from tensorflow) (0.4.0)\n",
      "Requirement already satisfied: opt-einsum>=2.3.2 in c:\\users\\dgopa\\anaconda3\\lib\\site-packages (from tensorflow) (3.3.0)\n",
      "Requirement already satisfied: numpy>=1.20 in c:\\users\\dgopa\\anaconda3\\lib\\site-packages (from tensorflow) (1.20.1)\n",
      "Requirement already satisfied: tensorboard<2.10,>=2.9 in c:\\users\\dgopa\\anaconda3\\lib\\site-packages (from tensorflow) (2.9.1)\n",
      "Requirement already satisfied: h5py>=2.9.0 in c:\\users\\dgopa\\anaconda3\\lib\\site-packages (from tensorflow) (2.10.0)\n",
      "Requirement already satisfied: google-pasta>=0.1.1 in c:\\users\\dgopa\\anaconda3\\lib\\site-packages (from tensorflow) (0.2.0)\n",
      "Requirement already satisfied: termcolor>=1.1.0 in c:\\users\\dgopa\\anaconda3\\lib\\site-packages (from tensorflow) (1.1.0)\n",
      "Requirement already satisfied: wrapt>=1.11.0 in c:\\users\\dgopa\\anaconda3\\lib\\site-packages (from tensorflow) (1.12.1)\n",
      "Requirement already satisfied: libclang>=13.0.0 in c:\\users\\dgopa\\anaconda3\\lib\\site-packages (from tensorflow) (14.0.1)\n",
      "Requirement already satisfied: wheel<1.0,>=0.23.0 in c:\\users\\dgopa\\anaconda3\\lib\\site-packages (from astunparse>=1.6.0->tensorflow) (0.36.2)\n",
      "Requirement already satisfied: google-auth<3,>=1.6.3 in c:\\users\\dgopa\\anaconda3\\lib\\site-packages (from tensorboard<2.10,>=2.9->tensorflow) (2.9.0)\n",
      "Requirement already satisfied: tensorboard-plugin-wit>=1.6.0 in c:\\users\\dgopa\\anaconda3\\lib\\site-packages (from tensorboard<2.10,>=2.9->tensorflow) (1.8.1)\n",
      "Requirement already satisfied: requests<3,>=2.21.0 in c:\\users\\dgopa\\anaconda3\\lib\\site-packages (from tensorboard<2.10,>=2.9->tensorflow) (2.28.0)\n",
      "Requirement already satisfied: werkzeug>=1.0.1 in c:\\users\\dgopa\\anaconda3\\lib\\site-packages (from tensorboard<2.10,>=2.9->tensorflow) (1.0.1)\n",
      "Requirement already satisfied: markdown>=2.6.8 in c:\\users\\dgopa\\anaconda3\\lib\\site-packages (from tensorboard<2.10,>=2.9->tensorflow) (3.3.7)\n",
      "Requirement already satisfied: google-auth-oauthlib<0.5,>=0.4.1 in c:\\users\\dgopa\\anaconda3\\lib\\site-packages (from tensorboard<2.10,>=2.9->tensorflow) (0.4.6)\n",
      "Requirement already satisfied: tensorboard-data-server<0.7.0,>=0.6.0 in c:\\users\\dgopa\\anaconda3\\lib\\site-packages (from tensorboard<2.10,>=2.9->tensorflow) (0.6.1)\n",
      "Requirement already satisfied: rsa<5,>=3.1.4 in c:\\users\\dgopa\\anaconda3\\lib\\site-packages (from google-auth<3,>=1.6.3->tensorboard<2.10,>=2.9->tensorflow) (4.8)\n",
      "Requirement already satisfied: cachetools<6.0,>=2.0.0 in c:\\users\\dgopa\\anaconda3\\lib\\site-packages (from google-auth<3,>=1.6.3->tensorboard<2.10,>=2.9->tensorflow) (5.2.0)\n",
      "Requirement already satisfied: pyasn1-modules>=0.2.1 in c:\\users\\dgopa\\anaconda3\\lib\\site-packages (from google-auth<3,>=1.6.3->tensorboard<2.10,>=2.9->tensorflow) (0.2.8)\n",
      "Requirement already satisfied: requests-oauthlib>=0.7.0 in c:\\users\\dgopa\\anaconda3\\lib\\site-packages (from google-auth-oauthlib<0.5,>=0.4.1->tensorboard<2.10,>=2.9->tensorflow) (1.3.1)\n",
      "Requirement already satisfied: importlib-metadata>=4.4 in c:\\users\\dgopa\\anaconda3\\lib\\site-packages (from markdown>=2.6.8->tensorboard<2.10,>=2.9->tensorflow) (4.12.0)\n",
      "Requirement already satisfied: zipp>=0.5 in c:\\users\\dgopa\\anaconda3\\lib\\site-packages (from importlib-metadata>=4.4->markdown>=2.6.8->tensorboard<2.10,>=2.9->tensorflow) (3.4.1)\n",
      "Requirement already satisfied: pyasn1<0.5.0,>=0.4.6 in c:\\users\\dgopa\\anaconda3\\lib\\site-packages (from pyasn1-modules>=0.2.1->google-auth<3,>=1.6.3->tensorboard<2.10,>=2.9->tensorflow) (0.4.8)\n",
      "Requirement already satisfied: certifi>=2017.4.17 in c:\\users\\dgopa\\anaconda3\\lib\\site-packages (from requests<3,>=2.21.0->tensorboard<2.10,>=2.9->tensorflow) (2020.12.5)\n",
      "Requirement already satisfied: urllib3<1.27,>=1.21.1 in c:\\users\\dgopa\\anaconda3\\lib\\site-packages (from requests<3,>=2.21.0->tensorboard<2.10,>=2.9->tensorflow) (1.26.4)\n",
      "Requirement already satisfied: idna<4,>=2.5 in c:\\users\\dgopa\\anaconda3\\lib\\site-packages (from requests<3,>=2.21.0->tensorboard<2.10,>=2.9->tensorflow) (2.10)\n",
      "Requirement already satisfied: charset-normalizer~=2.0.0 in c:\\users\\dgopa\\anaconda3\\lib\\site-packages (from requests<3,>=2.21.0->tensorboard<2.10,>=2.9->tensorflow) (2.0.12)\n",
      "Requirement already satisfied: oauthlib>=3.0.0 in c:\\users\\dgopa\\anaconda3\\lib\\site-packages (from requests-oauthlib>=0.7.0->google-auth-oauthlib<0.5,>=0.4.1->tensorboard<2.10,>=2.9->tensorflow) (3.2.0)\n",
      "Requirement already satisfied: pyparsing>=2.0.2 in c:\\users\\dgopa\\anaconda3\\lib\\site-packages (from packaging->tensorflow) (2.4.7)\n"
     ]
    }
   ],
   "source": [
    "!pip install tensorflow"
   ]
  },
  {
   "cell_type": "code",
   "execution_count": 1,
   "id": "cf46aced",
   "metadata": {},
   "outputs": [
    {
     "name": "stderr",
     "output_type": "stream",
     "text": [
      "[nltk_data] Downloading package punkt to\n",
      "[nltk_data]     C:\\Users\\dgopa\\AppData\\Roaming\\nltk_data...\n",
      "[nltk_data]   Package punkt is already up-to-date!\n",
      "[nltk_data] Downloading package stopwords to\n",
      "[nltk_data]     C:\\Users\\dgopa\\AppData\\Roaming\\nltk_data...\n",
      "[nltk_data]   Package stopwords is already up-to-date!\n"
     ]
    }
   ],
   "source": [
    "import pandas as pd\n",
    "import re\n",
    "import string\n",
    "import nltk\n",
    "nltk.download('punkt')\n",
    "nltk.download('stopwords')\n",
    "from nltk.tokenize import word_tokenize\n",
    "from nltk.corpus import stopwords\n",
    "import numpy as np\n",
    "import tensorflow as tf\n",
    "from tensorflow.keras.preprocessing.text import Tokenizer\n",
    "from tensorflow.keras.preprocessing.sequence import pad_sequences"
   ]
  },
  {
   "cell_type": "code",
   "execution_count": 2,
   "id": "a9c148ba",
   "metadata": {},
   "outputs": [
    {
     "name": "stdout",
     "output_type": "stream",
     "text": [
      "4    j.k. rowling wishes snape happy birthday in th...\n",
      "5                          advancing the world's women\n",
      "6       the fascinating case for eating lab-grown meat\n",
      "7    this ceo will send your kids to school, if you...\n",
      "8    top snake handler leaves sinking huckabee camp...\n",
      "9    friday's morning email: inside trump's presser...\n",
      "Name: headline, dtype: object\n"
     ]
    }
   ],
   "source": [
    "data_1 = pd.read_json(\"Sarcasm_Headlines_Dataset.json\", lines=True)\n",
    "data_2 = pd.read_json(\"Sarcasm_Headlines_Dataset_v2.json\", lines=True)\n",
    "data =  pd.concat([data_1, data_2])\n",
    "data.shape[0]\n",
    "print(data['headline'][4:10])"
   ]
  },
  {
   "cell_type": "code",
   "execution_count": 3,
   "id": "9f050092",
   "metadata": {},
   "outputs": [],
   "source": [
    "def clean_text(sentence):\n",
    "    sentence = sentence.lower()\n",
    "    \n",
    "    pattern = re.compile('http[s]?://(?:[a-zA-Z]|[0-9]|[$-_@.&+]|[!*\\(\\),]|(?:%[0-9a-fA-F][0-9a-fA-F]))+')\n",
    "    sentence = pattern.sub('', sentence)\n",
    "    sentence = \" \".join(filter(lambda x:x[0]!='@', sentence.split()))\n",
    "    emo = re.compile(\"[\"\n",
    "                           u\"\\U0001F600-\\U0001FFFF\"  \n",
    "                           u\"\\U0001F300-\\U0001F5FF\"  \n",
    "                           u\"\\U0001F680-\\U0001F6FF\"  \n",
    "                           u\"\\U0001F1E0-\\U0001F1FF\" \n",
    "                           u\"\\U00002702-\\U000027B0\"\n",
    "                           u\"\\U000024C2-\\U0001F251\"\n",
    "                           \"]+\", flags=re.UNICODE)\n",
    "    \n",
    "    sentence = emo.sub(r'', sentence)\n",
    "    sentence = sentence.lower()\n",
    "    sentence = re.sub(r\"i'm\", \"i am\", sentence)\n",
    "    sentence = re.sub(r\"he's\", \"he is\", sentence)\n",
    "    sentence = re.sub(r\"she's\", \"she is\", sentence)\n",
    "    sentence = re.sub(r\"that's\", \"that is\", sentence)        \n",
    "    sentence = re.sub(r\"what's\", \"what is\", sentence)\n",
    "    sentence = re.sub(r\"where's\", \"where is\", sentence) \n",
    "    sentence = re.sub(r\"\\'ll\", \" will\", sentence)  \n",
    "    sentence = re.sub(r\"\\'ve\", \" have\", sentence)  \n",
    "    sentence = re.sub(r\"\\'re\", \" are\", sentence)\n",
    "    sentence = re.sub(r\"\\'d\", \" would\", sentence)\n",
    "    sentence = re.sub(r\"\\'ve\", \" have\", sentence)\n",
    "    sentence = re.sub(r\"won't\", \"will not\",sentence)\n",
    "    sentence = re.sub(r\"don't\", \"do not\", sentence)\n",
    "    sentence = re.sub(r\"did't\", \"did not\", sentence)\n",
    "    sentence = re.sub(r\"can't\", \"can not\", sentence)\n",
    "    sentence = re.sub(r\"it's\", \"it is\", sentence)\n",
    "    sentence = re.sub(r\"couldn't\", \"could not\", sentence)\n",
    "    sentence = re.sub(r\"have't\", \"have not\", sentence)\n",
    "    sentence = re.sub(r\"[,.\\\"\\'!@#$%^&*(){}?/;`~:<>+=-]\", \"\", sentence)\n",
    "    return sentence"
   ]
  },
  {
   "cell_type": "code",
   "execution_count": 4,
   "id": "b8882faa",
   "metadata": {},
   "outputs": [
    {
     "data": {
      "text/plain": [
       "[['former',\n",
       "  'versace',\n",
       "  'store',\n",
       "  'clerk',\n",
       "  'sues',\n",
       "  'secret',\n",
       "  'black',\n",
       "  'code',\n",
       "  'minority',\n",
       "  'shoppers'],\n",
       " ['roseanne',\n",
       "  'revival',\n",
       "  'catches',\n",
       "  'thorny',\n",
       "  'political',\n",
       "  'mood',\n",
       "  'better',\n",
       "  'worse'],\n",
       " ['mom',\n",
       "  'starting',\n",
       "  'fear',\n",
       "  'sons',\n",
       "  'web',\n",
       "  'series',\n",
       "  'closest',\n",
       "  'thing',\n",
       "  'grandchild'],\n",
       " ['boehner',\n",
       "  'wants',\n",
       "  'wife',\n",
       "  'listen',\n",
       "  'come',\n",
       "  'alternative',\n",
       "  'debtreduction',\n",
       "  'ideas'],\n",
       " ['jk', 'rowling', 'wishes', 'snape', 'happy', 'birthday', 'magical', 'way'],\n",
       " ['advancing', 'worlds', 'women'],\n",
       " ['fascinating', 'case', 'eating', 'labgrown', 'meat'],\n",
       " ['ceo', 'send', 'kids', 'school', 'work', 'company'],\n",
       " ['top', 'snake', 'handler', 'leaves', 'sinking', 'huckabee', 'campaign'],\n",
       " ['fridays', 'morning', 'email', 'inside', 'trumps', 'presser', 'ages']]"
      ]
     },
     "execution_count": 4,
     "metadata": {},
     "output_type": "execute_result"
    }
   ],
   "source": [
    "def CleanTokenize(df):\n",
    "    head_lines = list()\n",
    "    lines = df[\"headline\"].values.tolist()\n",
    "\n",
    "    for line in lines:\n",
    "        line = clean_text(line)\n",
    "        tokens = word_tokenize(line)\n",
    "        table = str.maketrans('', '', string.punctuation)\n",
    "        stripped = [w.translate(table) for w in tokens]\n",
    "        words = [word for word in stripped if word.isalpha()]\n",
    "        stop_words = set(stopwords.words(\"english\"))\n",
    "        words = [w for w in words if not w in stop_words]\n",
    "        head_lines.append(words)\n",
    "    return head_lines\n",
    "\n",
    "sentences = CleanTokenize(data)\n",
    "sentences[0:10]"
   ]
  },
  {
   "cell_type": "code",
   "execution_count": 5,
   "id": "89eda49a",
   "metadata": {},
   "outputs": [
    {
     "name": "stdout",
     "output_type": "stream",
     "text": [
      "13832\n"
     ]
    }
   ],
   "source": [
    "split=0.25\n",
    "training_size = int(split*len(sentences))\n",
    "sarc=data['is_sarcastic'].values\n",
    "train_sentences=sentences[0:training_size]\n",
    "test_sentences=sentences[training_size:]\n",
    "train_labels=sarc[0:training_size]\n",
    "test_labels=sarc[training_size:]\n",
    "print(training_size)"
   ]
  },
  {
   "cell_type": "code",
   "execution_count": 27,
   "id": "666d7859",
   "metadata": {},
   "outputs": [
    {
     "name": "stdout",
     "output_type": "stream",
     "text": [
      "[[4985 4986 1001 6488  479  433  865   34    0    0    0    0    0    0]\n",
      " [6489  195   21    0    0    0    0    0    0    0    0    0    0    0]\n",
      " [4987  277  494 9620 1511    0    0    0    0    0    0    0    0    0]\n",
      " [ 338  929   74   57   70  313    0    0    0    0    0    0    0    0]\n",
      " [ 196 2938 6490  301 6491 1400   66    0    0    0    0    0    0    0]\n",
      " [2276  229  220  302   16 9621 4013    0    0    0    0    0    0    0]]\n"
     ]
    }
   ],
   "source": [
    "oov_tok = \"<OOV>\"\n",
    "tokenizer = Tokenizer(oov_token=oov_tok)\n",
    "tokenizer.fit_on_texts(train_sentences)\n",
    "word_index=tokenizer.word_index\n",
    "vocab_size=len(word_index)\n",
    "train_sequences = tokenizer.texts_to_sequences(train_sentences)\n",
    "train_padded=pad_sequences(train_sequences,maxlen=14,padding='post',truncating='post')\n",
    "test_sequences = tokenizer.texts_to_sequences(test_sentences)\n",
    "test_padded=pad_sequences(test_sequences,maxlen=14,padding='post',truncating='post')\n",
    "train_labels=np.array(train_labels)\n",
    "test_labels=np.array(test_labels)\n",
    "\n",
    "print(train_padded[4:10])\n"
   ]
  },
  {
   "cell_type": "code",
   "execution_count": null,
   "id": "5982a418",
   "metadata": {},
   "outputs": [],
   "source": []
  },
  {
   "cell_type": "code",
   "execution_count": 23,
   "id": "c3140f14",
   "metadata": {},
   "outputs": [
    {
     "name": "stdout",
     "output_type": "stream",
     "text": [
      "Found 1193514 word vectors.\n"
     ]
    }
   ],
   "source": [
    "\n",
    "embeddings_index = {}\n",
    "embedding_dim = 100\n",
    "#GLOVE_DIR = \"D:\\Pre-trained Word Vectors\\glove.twitter.27B\"\n",
    "f = open(('glove.twitter.27B.100d.txt'), encoding = \"utf-8\")\n",
    "for line in f:\n",
    "    values = line.split()\n",
    "    word = values[0]\n",
    "    coefs = np.asarray(values[1:], dtype='float32')\n",
    "    embeddings_index[word] = coefs\n",
    "f.close()\n",
    "\n",
    "print('Found %s word vectors.' % len(embeddings_index))"
   ]
  },
  {
   "cell_type": "code",
   "execution_count": 24,
   "id": "880bc96c",
   "metadata": {},
   "outputs": [
    {
     "name": "stdout",
     "output_type": "stream",
     "text": [
      "17831\n"
     ]
    }
   ],
   "source": [
    "embedding_matrix = np.zeros((len(word_index) + 1, embedding_dim))\n",
    "c = 0\n",
    "for word, i in word_index.items():\n",
    "    embedding_vector = embeddings_index.get(word)\n",
    "    if embedding_vector is not None:\n",
    "        c+=1\n",
    "        embedding_matrix[i] = embedding_vector\n",
    "print(c)"
   ]
  },
  {
   "cell_type": "code",
   "execution_count": 28,
   "id": "152900c6",
   "metadata": {},
   "outputs": [
    {
     "name": "stdout",
     "output_type": "stream",
     "text": [
      "Model: \"sequential_1\"\n",
      "_________________________________________________________________\n",
      " Layer (type)                Output Shape              Param #   \n",
      "=================================================================\n",
      " embedding_1 (Embedding)     (None, 14, 100)           1984800   \n",
      "                                                                 \n",
      " bidirectional_1 (Bidirectio  (None, 8)                3360      \n",
      " nal)                                                            \n",
      "                                                                 \n",
      " dense_2 (Dense)             (None, 6)                 54        \n",
      "                                                                 \n",
      " dense_3 (Dense)             (None, 1)                 7         \n",
      "                                                                 \n",
      "=================================================================\n",
      "Total params: 1,988,221\n",
      "Trainable params: 3,421\n",
      "Non-trainable params: 1,984,800\n",
      "_________________________________________________________________\n"
     ]
    }
   ],
   "source": [
    "lstm_dim = 4\n",
    "dense_dim = 6\n",
    "model_lstm = tf.keras.Sequential([\n",
    "    tf.keras.layers.Embedding(vocab_size+1, embedding_dim, input_length=14, weights=[embedding_matrix], trainable=False),\n",
    "    tf.keras.layers.Bidirectional(tf.keras.layers.LSTM(lstm_dim)),\n",
    "    tf.keras.layers.Dense(dense_dim, activation='relu'),\n",
    "    tf.keras.layers.Dense(1, activation='sigmoid')\n",
    "])\n",
    "model_lstm.compile(loss='binary_crossentropy',optimizer='adam',metrics=['accuracy'])\n",
    "model_lstm.summary()"
   ]
  },
  {
   "cell_type": "code",
   "execution_count": 29,
   "id": "a1e5e1b8",
   "metadata": {},
   "outputs": [
    {
     "name": "stdout",
     "output_type": "stream",
     "text": [
      "Epoch 1/20\n",
      "433/433 [==============================] - 22s 31ms/step - loss: 0.6470 - accuracy: 0.6753 - val_loss: 0.5903 - val_accuracy: 0.7355\n",
      "Epoch 2/20\n",
      "433/433 [==============================] - 11s 25ms/step - loss: 0.5564 - accuracy: 0.7571 - val_loss: 0.5363 - val_accuracy: 0.7580\n",
      "Epoch 3/20\n",
      "433/433 [==============================] - 10s 24ms/step - loss: 0.5089 - accuracy: 0.7827 - val_loss: 0.5078 - val_accuracy: 0.7682\n",
      "Epoch 4/20\n",
      "433/433 [==============================] - 11s 24ms/step - loss: 0.4764 - accuracy: 0.7970 - val_loss: 0.4936 - val_accuracy: 0.7730\n",
      "Epoch 5/20\n",
      "433/433 [==============================] - 11s 25ms/step - loss: 0.4521 - accuracy: 0.8093 - val_loss: 0.4739 - val_accuracy: 0.7836\n",
      "Epoch 6/20\n",
      "433/433 [==============================] - 11s 26ms/step - loss: 0.4318 - accuracy: 0.8168 - val_loss: 0.4627 - val_accuracy: 0.7897\n",
      "Epoch 7/20\n",
      "433/433 [==============================] - 11s 25ms/step - loss: 0.4169 - accuracy: 0.8268 - val_loss: 0.4523 - val_accuracy: 0.7950\n",
      "Epoch 8/20\n",
      "433/433 [==============================] - 11s 25ms/step - loss: 0.4042 - accuracy: 0.8324 - val_loss: 0.4543 - val_accuracy: 0.7932\n",
      "Epoch 9/20\n",
      "433/433 [==============================] - 11s 25ms/step - loss: 0.3914 - accuracy: 0.8396 - val_loss: 0.4469 - val_accuracy: 0.7989\n",
      "Epoch 10/20\n",
      "433/433 [==============================] - 11s 25ms/step - loss: 0.3822 - accuracy: 0.8441 - val_loss: 0.4390 - val_accuracy: 0.8039\n",
      "Epoch 11/20\n",
      "433/433 [==============================] - 10s 24ms/step - loss: 0.3707 - accuracy: 0.8519 - val_loss: 0.4438 - val_accuracy: 0.8027\n",
      "Epoch 12/20\n",
      "433/433 [==============================] - 10s 22ms/step - loss: 0.3627 - accuracy: 0.8533 - val_loss: 0.4435 - val_accuracy: 0.8018\n",
      "Epoch 13/20\n",
      "433/433 [==============================] - 11s 25ms/step - loss: 0.3544 - accuracy: 0.8580 - val_loss: 0.4342 - val_accuracy: 0.8082\n",
      "Epoch 14/20\n",
      "433/433 [==============================] - 11s 25ms/step - loss: 0.3450 - accuracy: 0.8631 - val_loss: 0.4374 - val_accuracy: 0.8082\n",
      "Epoch 15/20\n",
      "433/433 [==============================] - 11s 25ms/step - loss: 0.3396 - accuracy: 0.8647 - val_loss: 0.4292 - val_accuracy: 0.8145\n",
      "Epoch 16/20\n",
      "433/433 [==============================] - 11s 25ms/step - loss: 0.3323 - accuracy: 0.8699 - val_loss: 0.4446 - val_accuracy: 0.8065\n",
      "Epoch 17/20\n",
      "433/433 [==============================] - 10s 24ms/step - loss: 0.3256 - accuracy: 0.8733 - val_loss: 0.4379 - val_accuracy: 0.8138\n",
      "Epoch 18/20\n",
      "433/433 [==============================] - 10s 24ms/step - loss: 0.3214 - accuracy: 0.8773 - val_loss: 0.4380 - val_accuracy: 0.8137\n",
      "Epoch 19/20\n",
      "433/433 [==============================] - 11s 25ms/step - loss: 0.3161 - accuracy: 0.8764 - val_loss: 0.4364 - val_accuracy: 0.8147\n",
      "Epoch 20/20\n",
      "433/433 [==============================] - 11s 24ms/step - loss: 0.3107 - accuracy: 0.8799 - val_loss: 0.4370 - val_accuracy: 0.8174\n"
     ]
    }
   ],
   "source": [
    "NUM_EPOCHS = 20\n",
    "history_lstm = model_lstm.fit(train_padded, train_labels, epochs=NUM_EPOCHS,\n",
    "                              validation_data=(test_padded, test_labels))"
   ]
  },
  {
   "cell_type": "code",
   "execution_count": 30,
   "id": "63064e4f",
   "metadata": {},
   "outputs": [
    {
     "data": {
      "image/png": "[encoded data removed]",
      "text/plain": [
       "<Figure size 432x288 with 1 Axes>"
      ]
     },
     "metadata": {
      "needs_background": "light"
     },
     "output_type": "display_data"
    },
    {
     "data": {
      "image/png": "[encoded data removed]",
      "text/plain": [
       "<Figure size 432x288 with 1 Axes>"
      ]
     },
     "metadata": {
      "needs_background": "light"
     },
     "output_type": "display_data"
    }
   ],
   "source": [
    "import matplotlib.pyplot as plt\n",
    "def plot_graphs(history, string):\n",
    "  plt.plot(history.history[string])\n",
    "  plt.plot(history.history['val_'+string])\n",
    "  plt.xlabel(\"Epochs\")\n",
    "  plt.ylabel(string)\n",
    "  plt.legend([string, 'val_'+string])\n",
    "  plt.show()\n",
    "plot_graphs(history_lstm, 'accuracy')\n",
    "plot_graphs(history_lstm, 'loss')"
   ]
  },
  {
   "cell_type": "code",
   "execution_count": 33,
   "id": "b0e1a109",
   "metadata": {},
   "outputs": [],
   "source": [
    "def predict_sarcasm(s):\n",
    "    x_final = pd.DataFrame({\"headline\":[s]})\n",
    "    test_lines = CleanTokenize(x_final)\n",
    "    test_sequences = tokenizer.texts_to_sequences(test_lines)\n",
    "    test_review_pad = pad_sequences(test_sequences, maxlen=14, padding='post')\n",
    "    pred = model_lstm.predict(test_review_pad)\n",
    "    pred*=100\n",
    "    if pred[0][0]>=50: return \"It's a sarcasm!\" \n",
    "    else: return \"It's not a sarcasm.\""
   ]
  },
  {
   "cell_type": "code",
   "execution_count": 35,
   "id": "3faef3f9",
   "metadata": {},
   "outputs": [
    {
     "name": "stdout",
     "output_type": "stream",
     "text": [
      "1/1 [==============================] - 0s 50ms/step\n"
     ]
    },
    {
     "data": {
      "text/plain": [
       "\"It's not a sarcasm.\""
      ]
     },
     "execution_count": 35,
     "metadata": {},
     "output_type": "execute_result"
    }
   ],
   "source": [
    "predict_sarcasm(\"His name is Bob. He is a nice person.\")"
   ]
  },
  {
   "cell_type": "code",
   "execution_count": 36,
   "id": "c892bd6b",
   "metadata": {},
   "outputs": [
    {
     "name": "stdout",
     "output_type": "stream",
     "text": [
      "1/1 [==============================] - 0s 34ms/step\n"
     ]
    },
    {
     "data": {
      "text/plain": [
       "\"It's a sarcasm!\""
      ]
     },
     "execution_count": 36,
     "metadata": {},
     "output_type": "execute_result"
    }
   ],
   "source": [
    "predict_sarcasm(\"Sarcasm is very easy to detect.\")"
   ]
  },
  {
   "cell_type": "code",
   "execution_count": 40,
   "id": "462a7d15",
   "metadata": {},
   "outputs": [
    {
     "name": "stdout",
     "output_type": "stream",
     "text": [
      "1/1 [==============================] - 0s 33ms/step\n"
     ]
    },
    {
     "data": {
      "text/plain": [
       "\"It's a sarcasm!\""
      ]
     },
     "execution_count": 40,
     "metadata": {},
     "output_type": "execute_result"
    }
   ],
   "source": [
    "predict_sarcasm(\"Silence is golden. Duct tape is silver.\")"
   ]
  }
 ],
 "metadata": {
  "kernelspec": {
   "display_name": "Python 3",
   "language": "python",
   "name": "python3"
  },
  "language_info": {
   "codemirror_mode": {
    "name": "ipython",
    "version": 3
   },
   "file_extension": ".py",
   "mimetype": "text/x-python",
   "name": "python",
   "nbconvert_exporter": "python",
   "pygments_lexer": "ipython3",
   "version": "3.8.8"
  }
 },
 "nbformat": 4,
 "nbformat_minor": 5
}
